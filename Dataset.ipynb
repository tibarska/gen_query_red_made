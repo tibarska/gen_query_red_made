{
 "cells": [
  {
   "cell_type": "code",
   "execution_count": 6,
   "id": "4687bf65",
   "metadata": {},
   "outputs": [
    {
     "data": {
      "text/plain": [
       "131072"
      ]
     },
     "execution_count": 6,
     "metadata": {},
     "output_type": "execute_result"
    }
   ],
   "source": [
    "import os\n",
    "from rank_bm25 import BM25Okapi\n",
    "import pandas as pd\n",
    "import numpy as np\n",
    "import random\n",
    "import sys\n",
    "import csv\n",
    "import string\n",
    "csv.field_size_limit(sys.maxsize)"
   ]
  },
  {
   "cell_type": "markdown",
   "id": "f305a1b4",
   "metadata": {},
   "source": [
    "### Query "
   ]
  },
  {
   "cell_type": "markdown",
   "id": "f7af7cda",
   "metadata": {},
   "source": [
    "Формируем словарик query_to_id со всеми запросами, назначаем им id, с помощью которого мы далее составим привычные нам таблицы query, docs, qrels"
   ]
  },
  {
   "cell_type": "markdown",
   "id": "a29e16a1",
   "metadata": {},
   "source": [
    "### Function for parsing of full docs and queries files "
   ]
  },
  {
   "cell_type": "code",
   "execution_count": 2,
   "id": "b77c505f",
   "metadata": {},
   "outputs": [],
   "source": [
    "def write_queries_file(dataset_file_path, dataset_filename, return_dicts=True):\n",
    "    query_to_id = {}\n",
    "    query_id = 0\n",
    "    id_q = 0 \n",
    "    with open(os.path.join(dataset_file_path, dataset_filename), 'r') as f:\n",
    "        csv_reader = csv.reader(f, delimiter='\\t')\n",
    "        for line in csv_reader:\n",
    "            \n",
    "            # QUERIES CHECK\n",
    "            if len(line) == 7:\n",
    "                label, query, _, _, _, data, _ = line \n",
    "                if query in query_to_id:\n",
    "                    continue # запрос не уникален, пропускаем\n",
    "                else:\n",
    "                    query_to_id[query] = query_id # нам еще не попадался такой запрос\n",
    "                    query = query.translate(str.maketrans('', '', string.punctuation)).lower()\n",
    "                    with open(os.path.join(dataset_file_path, 'queries.tsv'), 'a', newline='') as new_file:\n",
    "                        writer = csv.writer(new_file, delimiter='\\t', lineterminator='\\n')\n",
    "                        writer.writerow([id_q, query_id, query])\n",
    "                    id_q += 1\n",
    "                    query_id += 1\n",
    "\n",
    "    print('Unique queries found:', len(query_to_id.values()))\n",
    "    if return_dicts:\n",
    "        # Возвращаю дикты всех запросов, так как они будет использоваться дальше\n",
    "        return query_to_id "
   ]
  },
  {
   "cell_type": "code",
   "execution_count": 3,
   "id": "f965b40b",
   "metadata": {
    "scrolled": false
   },
   "outputs": [
    {
     "name": "stdout",
     "output_type": "stream",
     "text": [
      "Unique queries found: 54511\n"
     ]
    }
   ],
   "source": [
    "query_to_id = write_queries_file('/home/tatiana/MADE/Project/VK_Dataset',\n",
    "                                                 'assessors_train_l_q_u_t_m_b_ql.tsv', \n",
    "                                                 return_dicts = True)"
   ]
  },
  {
   "cell_type": "code",
   "execution_count": 4,
   "id": "b0b433ec",
   "metadata": {},
   "outputs": [
    {
     "data": {
      "text/plain": [
       "(54511, 54510)"
      ]
     },
     "execution_count": 4,
     "metadata": {},
     "output_type": "execute_result"
    }
   ],
   "source": [
    "len(query_to_id.values()), max(query_to_id.values())"
   ]
  },
  {
   "cell_type": "markdown",
   "id": "57c3fb88",
   "metadata": {},
   "source": [
    "### Docs, Qrels"
   ]
  },
  {
   "cell_type": "markdown",
   "id": "fc90e673",
   "metadata": {},
   "source": [
    "Формируем словарик со всеми документами doc_to_id, чтобы назначить им айди документа"
   ]
  },
  {
   "cell_type": "code",
   "execution_count": 5,
   "id": "a1bde6e0",
   "metadata": {},
   "outputs": [],
   "source": [
    "import os\n",
    "\n",
    "def write_docs_file(dataset_file_path, dataset_filename, query_to_id, return_dicts=True):\n",
    "    doc_to_id = {}\n",
    "    doc_num = 0\n",
    "    doc_str = 'D'\n",
    "    id_d = -1\n",
    "    id = 0\n",
    "    with open(os.path.join(dataset_file_path, dataset_filename), 'r') as f:\n",
    "        csv_reader = csv.reader(f, delimiter='\\t')\n",
    "        for line in csv_reader:\n",
    "            id_d += 1\n",
    "            doc_id = doc_str + str(doc_num)\n",
    "            if len(line) == 7:\n",
    "                label, query, _, _, _, data, _ = line \n",
    "                data = data.translate(str.maketrans('', '', string.punctuation)).lower()\n",
    "                data_short = ' '.join(data.lower().split()[:400])\n",
    "                if data_short in doc_to_id:\n",
    "                    continue\n",
    "                else:\n",
    "                    doc_to_id[data_short] = doc_id\n",
    "                    with open(os.path.join(dataset_file_path,'docs.tsv'), 'a', newline='') as new_file:\n",
    "                        writer = csv.writer(new_file, delimiter='\\t', lineterminator='\\n')\n",
    "                        writer.writerow([id_d, doc_id, data])\n",
    "                    doc_num += 1\n",
    "                \n",
    "                if label in ('3'):\n",
    "                    query_id = query_to_id[query]\n",
    "                    doc_id = doc_to_id[data_short]\n",
    "                    with open(os.path.join(dataset_file_path, 'qrels.tsv'), 'a', newline='') as new_file:\n",
    "                        writer = csv.writer(new_file, delimiter='\\t', lineterminator='\\n')\n",
    "                        writer.writerow([id, query_id, doc_id])\n",
    "                    id += 1          \n",
    "            \n",
    "    print('Unique docs found:', len(set(doc_to_id.values())))\n",
    "    print('Qrels number written:', id)\n",
    "    if return_dicts:\n",
    "        # Возвращаю дикты всех документов, так как они будет использоваться дальше\n",
    "        return doc_to_id"
   ]
  },
  {
   "cell_type": "code",
   "execution_count": null,
   "id": "f40dc0bd",
   "metadata": {},
   "outputs": [],
   "source": [
    "doc_to_id = write_docs_file('/home/tatiana/MADE/Project/VK_Dataset',\n",
    "                            'assessors_train_l_q_u_t_m_b_ql.tsv', \n",
    "                            query_to_id,\n",
    "                            return_dicts = True)"
   ]
  },
  {
   "cell_type": "code",
   "execution_count": null,
   "id": "97de901e",
   "metadata": {},
   "outputs": [],
   "source": [
    "len(doc_to_id.values()), len(set(doc_to_id.values()))"
   ]
  },
  {
   "cell_type": "code",
   "execution_count": 19,
   "id": "6f39bdb4",
   "metadata": {
    "scrolled": false
   },
   "outputs": [
    {
     "data": {
      "text/plain": [
       "(1304200, 1304200)"
      ]
     },
     "execution_count": 19,
     "metadata": {},
     "output_type": "execute_result"
    }
   ],
   "source": [
    "len(doc_to_id.values()), len(set(doc_to_id.values()))"
   ]
  },
  {
   "cell_type": "markdown",
   "id": "39983a42",
   "metadata": {},
   "source": [
    "### Формируем dev выборку из датасета - попробуем захватить как можно больше уникальных query"
   ]
  },
  {
   "cell_type": "code",
   "execution_count": 8,
   "id": "cd8c8c4f",
   "metadata": {},
   "outputs": [
    {
     "name": "stdout",
     "output_type": "stream",
     "text": [
      "10886 qrels selected and written to dev_qrels.tsv\n",
      "10886 docs selected\n"
     ]
    }
   ],
   "source": [
    "\n",
    "def dev_qrels_write(qrels_file_path, qrels_filename, dev_size):\n",
    "    dev_docs_selected = set()\n",
    "    dev_queries_selected = set()\n",
    "    sampled_qrels_id = random.sample(range(0, 190000), dev_size + 2000)\n",
    "    with open(os.path.join(qrels_file_path, qrels_filename), 'r') as f:\n",
    "        csv_reader = csv.reader(f, delimiter='\\t')\n",
    "        for line in csv_reader:\n",
    "            id, query_id, doc_id = line\n",
    "            if query_id not in dev_queries_selected and int(id) in sampled_qrels_id:\n",
    "                dev_queries_selected.add(query_id)\n",
    "                dev_docs_selected.add(doc_id)\n",
    "                with open(os.path.join(qrels_file_path, 'dev_qrels.tsv'), 'a', newline='') as new_file:\n",
    "                    writer = csv.writer(new_file, delimiter='\\t', lineterminator='\\n')\n",
    "                    writer.writerow([id, query_id, doc_id])\n",
    "            if len(dev_queries_selected) >= dev_size:\n",
    "                      break\n",
    "    print(len(dev_queries_selected), 'qrels selected and written to dev_qrels.tsv')\n",
    "    print(len(dev_docs_selected), 'docs selected')\n",
    "    return dev_queries_selected, dev_docs_selected\n",
    "\n",
    "dev_queries_selected, dev_docs_selected = dev_qrels_write('/home/tatiana/MADE/Project/VK_Dataset', 'qrels.tsv', 15000)"
   ]
  },
  {
   "cell_type": "code",
   "execution_count": 10,
   "id": "42dc688f",
   "metadata": {},
   "outputs": [],
   "source": [
    "def dev_docs_write(docs_file_path, docs_filename, dev_docs_selected):\n",
    "    with open(os.path.join(docs_file_path, docs_filename), 'r') as f:\n",
    "        csv_reader = csv.reader(f, delimiter='\\t')\n",
    "        for line in csv_reader:\n",
    "            id_d, doc_id, data = line \n",
    "            if doc_id in dev_docs_selected:\n",
    "                with open(os.path.join(docs_file_path, 'dev_docs.tsv'), 'a', newline='') as new_file:\n",
    "                    writer = csv.writer(new_file, delimiter='\\t', lineterminator='\\n')\n",
    "                    writer.writerow([id_d, doc_id, data])\n",
    "    \n",
    "dev_docs_write('/home/tatiana/MADE/Project/VK_Dataset', 'docs.tsv', dev_docs_selected)"
   ]
  },
  {
   "cell_type": "code",
   "execution_count": 11,
   "id": "a292cc30",
   "metadata": {},
   "outputs": [],
   "source": [
    "def dev_queries_write(queries_file_path, queries_filename, dev_queries_selected):\n",
    "    with open(os.path.join(queries_file_path, queries_filename), 'r') as f:\n",
    "        csv_reader = csv.reader(f, delimiter='\\t')\n",
    "        for line in csv_reader:\n",
    "            id_q, query_id, query = line \n",
    "            if query_id in dev_queries_selected:\n",
    "                with open(os.path.join(queries_file_path, 'dev_queries.tsv'), 'a', newline='') as new_file:\n",
    "                    writer = csv.writer(new_file, delimiter='\\t', lineterminator='\\n')\n",
    "                    writer.writerow([id_q, query_id, query])\n",
    "    \n",
    "dev_queries_write('/home/tatiana/MADE/Project/VK_Dataset', 'queries.tsv', dev_queries_selected)"
   ]
  },
  {
   "cell_type": "markdown",
   "id": "73496d1e",
   "metadata": {},
   "source": [
    "Сопоставляем словари документов и запросов, чтобы записать нужные нам файлы docs, qrels"
   ]
  },
  {
   "cell_type": "markdown",
   "id": "7120d79b",
   "metadata": {},
   "source": [
    "### Try opening dev data"
   ]
  },
  {
   "cell_type": "code",
   "execution_count": 77,
   "id": "09bdefc8",
   "metadata": {},
   "outputs": [],
   "source": [
    "import pandas as pd\n",
    "df = pd.read_csv('dev_docs/qrels.tsv', names=['id', 'query_id', 'doc_id'],  sep='\\t')\n",
    "docs_df = pd.read_csv('dev_docs/docs.tsv', names=['id', 'doc_id', 'data'],  sep='\\t')\n",
    "queries = pd.read_csv('dev_docs/queries.tsv', names=['id', 'query_id', 'data'],  sep='\\t')\n",
    "# queries = queries[['query_id', 'data']]"
   ]
  },
  {
   "cell_type": "code",
   "execution_count": 78,
   "id": "3652c7fa",
   "metadata": {},
   "outputs": [],
   "source": [
    "def create_joined_file(df_docs, df_qrels, df_queries, path_processed_joined=None):\n",
    "    joined_df = df_qrels.merge(df_queries, on='query_id').merge(df_docs, on='doc_id', how='left')[['query_id', 'data_x', 'doc_id', 'data_y']]\n",
    "    joined_df.rename(columns={'data_x':'query_data', 'data_y':'doc_data'}, inplace=True)\n",
    "    if path_processed_joined:\n",
    "        joined_df.to_csv(path_processed_joined, sep='\\t', index=None, header=None)\n",
    "    return joined_df\n",
    "\n",
    "joined_df = create_joined_file(docs_df, df, queries)"
   ]
  },
  {
   "cell_type": "code",
   "execution_count": 96,
   "id": "942901c2",
   "metadata": {
    "scrolled": true
   },
   "outputs": [
    {
     "ename": "NameError",
     "evalue": "name 'doc_to_id' is not defined",
     "output_type": "error",
     "traceback": [
      "\u001b[0;31m---------------------------------------------------------------------------\u001b[0m",
      "\u001b[0;31mNameError\u001b[0m                                 Traceback (most recent call last)",
      "Cell \u001b[0;32mIn[96], line 1\u001b[0m\n\u001b[0;32m----> 1\u001b[0m \u001b[38;5;28mlen\u001b[39m(\u001b[43mdoc_to_id\u001b[49m\u001b[38;5;241m.\u001b[39mkeys()), \u001b[38;5;28mlen\u001b[39m(query_to_id\u001b[38;5;241m.\u001b[39mvalues())\n",
      "\u001b[0;31mNameError\u001b[0m: name 'doc_to_id' is not defined"
     ]
    }
   ],
   "source": [
    "len(doc_to_id.keys()), len(query_to_id.values())"
   ]
  },
  {
   "cell_type": "markdown",
   "id": "594e824b",
   "metadata": {},
   "source": [
    "### Dataset look up "
   ]
  },
  {
   "cell_type": "code",
   "execution_count": 2,
   "id": "37b19bf1",
   "metadata": {},
   "outputs": [],
   "source": [
    "import pandas as pd\n",
    "df = pd.read_csv('train_qrels.tsv', names=['id', 'query_id', 'doc_id'],  sep='\\t')\n",
    "docs_df = pd.read_csv('train_docs.tsv', names=['id', 'doc_id', 'data'],  sep='\\t')\n",
    "queries = pd.read_csv('train_queries.tsv', names=['id', 'query_id', 'data'],  sep='\\t')\n",
    "queries = queries[['query_id', 'data']]"
   ]
  },
  {
   "cell_type": "code",
   "execution_count": 7,
   "id": "ffcbe898",
   "metadata": {},
   "outputs": [],
   "source": [
    "def create_joined_file(df_docs, df_qrels, df_queries, path_processed_joined=None):\n",
    "    joined_df = df_qrels.merge(df_queries, on='query_id').merge(df_docs, on='doc_id', how='left')[['query_id', 'data_x', 'doc_id', 'data_y']]\n",
    "    joined_df.rename(columns={'data_x':'query_data', 'data_y':'doc_data'}, inplace=True)\n",
    "    if path_processed_joined:\n",
    "        joined_df.to_csv(path_processed_joined, sep='\\t', index=None, header=None)\n",
    "    return joined_df\n",
    "\n",
    "joined_df = create_joined_file(docs_df, df, queries)"
   ]
  },
  {
   "cell_type": "code",
   "execution_count": 13,
   "id": "88d50f76",
   "metadata": {},
   "outputs": [
    {
     "data": {
      "text/plain": [
       "(5200, 5200, 5200)"
      ]
     },
     "execution_count": 13,
     "metadata": {},
     "output_type": "execute_result"
    }
   ],
   "source": [
    "joined_df.query_id.nunique(), len(joined_df), joined_df.doc_id.nunique()"
   ]
  },
  {
   "cell_type": "code",
   "execution_count": 1,
   "id": "9a29d0cf",
   "metadata": {
    "scrolled": true
   },
   "outputs": [
    {
     "ename": "NameError",
     "evalue": "name 'joined_df' is not defined",
     "output_type": "error",
     "traceback": [
      "\u001b[0;31m---------------------------------------------------------------------------\u001b[0m",
      "\u001b[0;31mNameError\u001b[0m                                 Traceback (most recent call last)",
      "Cell \u001b[0;32mIn[1], line 6\u001b[0m\n\u001b[1;32m      3\u001b[0m \u001b[38;5;28;01mimport\u001b[39;00m \u001b[38;5;21;01mpandas\u001b[39;00m \u001b[38;5;28;01mas\u001b[39;00m \u001b[38;5;21;01mpd\u001b[39;00m\n\u001b[1;32m      4\u001b[0m \u001b[38;5;28;01mimport\u001b[39;00m \u001b[38;5;21;01mnumpy\u001b[39;00m \u001b[38;5;28;01mas\u001b[39;00m \u001b[38;5;21;01mnp\u001b[39;00m\n\u001b[0;32m----> 6\u001b[0m corpus \u001b[38;5;241m=\u001b[39m \u001b[38;5;28mlist\u001b[39m(\u001b[43mjoined_df\u001b[49m[\u001b[38;5;124m'\u001b[39m\u001b[38;5;124mdoc_data\u001b[39m\u001b[38;5;124m'\u001b[39m]\u001b[38;5;241m.\u001b[39mvalues)\n\u001b[1;32m      7\u001b[0m tokenized_corpus \u001b[38;5;241m=\u001b[39m [corp\u001b[38;5;241m.\u001b[39msplit(\u001b[38;5;124m\"\u001b[39m\u001b[38;5;124m \u001b[39m\u001b[38;5;124m\"\u001b[39m) \u001b[38;5;28;01mfor\u001b[39;00m corp \u001b[38;5;129;01min\u001b[39;00m corpus]\n\u001b[1;32m      9\u001b[0m bm25 \u001b[38;5;241m=\u001b[39m BM25Okapi(tokenized_corpus)\n",
      "\u001b[0;31mNameError\u001b[0m: name 'joined_df' is not defined"
     ]
    }
   ],
   "source": [
    "import os\n",
    "from rank_bm25 import BM25Okapi\n",
    "import pandas as pd\n",
    "import numpy as np\n",
    "\n",
    "corpus = list(joined_df['doc_data'].values)\n",
    "tokenized_corpus = [corp.split(\" \") for corp in corpus]\n",
    "\n",
    "bm25 = BM25Okapi(tokenized_corpus)\n",
    "\n",
    "def predicting_100_top_doc_id(joined_df, bm25):\n",
    "    predict_on_query = []\n",
    "    predicted_scores = []\n",
    "    for query_id, query in zip(list(joined_df['query_id']), list(joined_df['query_data'])):\n",
    "        query = query.split()\n",
    "        score = bm25.get_scores(query)\n",
    "        top_100_scores = np.round(score[score >= pd.Series(score).nlargest(100).values[-1]], 1)# score[score >= pd.Series(score).nlargest(100).values[-1]]\n",
    "        top_100_doc_id = joined_df['doc_id'][score >= pd.Series(score).nlargest(100).values[-1]].values\n",
    "        score_dicts = [{doc:score} for (doc, score) in zip(top_100_doc_id, top_100_scores)]\n",
    "        predict_on_query.append(list(top_100_doc_id))\n",
    "        predicted_scores.append(list(top_100_scores))\n",
    "    return predict_on_query, predicted_scores\n",
    "\n",
    "joined_df['predict_100'], joined_df['predict_100_score'] = predicting_100_top_doc_id(joined_df, bm25)"
   ]
  },
  {
   "cell_type": "markdown",
   "id": "505c570f",
   "metadata": {},
   "source": [
    "### BM 25 Just docs"
   ]
  },
  {
   "cell_type": "code",
   "execution_count": 8,
   "id": "64cf42be",
   "metadata": {},
   "outputs": [
    {
     "data": {
      "text/plain": [
       "0.7173371945450365"
      ]
     },
     "execution_count": 8,
     "metadata": {},
     "output_type": "execute_result"
    }
   ],
   "source": [
    "from rank_eval import Qrels, Run, evaluate\n",
    "qrels = Qrels()\n",
    "qrels.add_multi(q_ids=[str(i) for i in list(joined_df['query_id'].values)], \n",
    "                doc_ids=[[i] for i in joined_df['doc_id']],\n",
    "                scores=[[1.0] for i in range(len(joined_df))])\n",
    "\n",
    "run = Run()\n",
    "run.add_multi(q_ids=[str(i) for i in list(joined_df['query_id'].values)], \n",
    "                doc_ids=[i for i in joined_df['predict_100']],\n",
    "                scores=[i for i in joined_df['predict_100_score']])\n",
    "\n",
    "evaluate(qrels, run, [\"mrr@100\"])"
   ]
  },
  {
   "cell_type": "code",
   "execution_count": 2,
   "id": "ac6b089c",
   "metadata": {},
   "outputs": [
    {
     "ename": "NameError",
     "evalue": "name 'joined_df' is not defined",
     "output_type": "error",
     "traceback": [
      "\u001b[0;31m---------------------------------------------------------------------------\u001b[0m",
      "\u001b[0;31mNameError\u001b[0m                                 Traceback (most recent call last)",
      "Cell \u001b[0;32mIn[2], line 1\u001b[0m\n\u001b[0;32m----> 1\u001b[0m joined_df[\u001b[38;5;124m'\u001b[39m\u001b[38;5;124mold_doc_data\u001b[39m\u001b[38;5;124m'\u001b[39m] \u001b[38;5;241m=\u001b[39m \u001b[43mjoined_df\u001b[49m[\u001b[38;5;124m'\u001b[39m\u001b[38;5;124mdoc_data\u001b[39m\u001b[38;5;124m'\u001b[39m]\n\u001b[1;32m      2\u001b[0m joined_df[\u001b[38;5;124m'\u001b[39m\u001b[38;5;124mdoc_data\u001b[39m\u001b[38;5;124m'\u001b[39m] \u001b[38;5;241m=\u001b[39m joined_df[\u001b[38;5;124m'\u001b[39m\u001b[38;5;124mquery_data\u001b[39m\u001b[38;5;124m'\u001b[39m] \u001b[38;5;241m+\u001b[39m \u001b[38;5;124m'\u001b[39m\u001b[38;5;124m \u001b[39m\u001b[38;5;124m'\u001b[39m \u001b[38;5;241m+\u001b[39m joined_df[\u001b[38;5;124m'\u001b[39m\u001b[38;5;124mdoc_data\u001b[39m\u001b[38;5;124m'\u001b[39m]\n",
      "\u001b[0;31mNameError\u001b[0m: name 'joined_df' is not defined"
     ]
    }
   ],
   "source": [
    "joined_df['old_doc_data'] = joined_df['doc_data']\n",
    "joined_df['doc_data'] = joined_df['query_data'] + ' ' + joined_df['doc_data']"
   ]
  },
  {
   "cell_type": "markdown",
   "id": "c85e4f96",
   "metadata": {},
   "source": [
    "### BM 25 Ideal docs"
   ]
  },
  {
   "cell_type": "code",
   "execution_count": 18,
   "id": "d2335ca7",
   "metadata": {},
   "outputs": [],
   "source": [
    "corpus = list(joined_df['doc_data'].values)\n",
    "tokenized_corpus = [corp.split(\" \") for corp in corpus]\n",
    "\n",
    "bm25 = BM25Okapi(tokenized_corpus)"
   ]
  },
  {
   "cell_type": "code",
   "execution_count": 3,
   "id": "1710d084",
   "metadata": {},
   "outputs": [
    {
     "ename": "NameError",
     "evalue": "name 'predicting_100_top_doc_id' is not defined",
     "output_type": "error",
     "traceback": [
      "\u001b[0;31m---------------------------------------------------------------------------\u001b[0m",
      "\u001b[0;31mNameError\u001b[0m                                 Traceback (most recent call last)",
      "Cell \u001b[0;32mIn[3], line 2\u001b[0m\n\u001b[1;32m      1\u001b[0m \u001b[38;5;66;03m# predict 100 docs on the added queries and docs\u001b[39;00m\n\u001b[0;32m----> 2\u001b[0m joined_df[\u001b[38;5;124m'\u001b[39m\u001b[38;5;124mpredict_100\u001b[39m\u001b[38;5;124m'\u001b[39m], joined_df[\u001b[38;5;124m'\u001b[39m\u001b[38;5;124mpredict_100_score\u001b[39m\u001b[38;5;124m'\u001b[39m] \u001b[38;5;241m=\u001b[39m \u001b[43mpredicting_100_top_doc_id\u001b[49m(joined_df, bm25)\n",
      "\u001b[0;31mNameError\u001b[0m: name 'predicting_100_top_doc_id' is not defined"
     ]
    }
   ],
   "source": [
    "# predict 100 docs on the added queries and docs\n",
    "joined_df['predict_100'], joined_df['predict_100_score'] = predicting_100_top_doc_id(joined_df, bm25)"
   ]
  },
  {
   "cell_type": "code",
   "execution_count": 20,
   "id": "c1895c68",
   "metadata": {},
   "outputs": [],
   "source": [
    "from rank_eval import Qrels, Run, evaluate\n",
    "qrels = Qrels()\n",
    "qrels.add_multi(q_ids=[str(i) for i in list(joined_df['query_id'].values)], \n",
    "                doc_ids=[[i] for i in joined_df['doc_id']],\n",
    "                scores=[[1.0] for i in range(len(joined_df))])\n",
    "\n",
    "run = Run()\n",
    "run.add_multi(q_ids=[str(i) for i in list(joined_df['query_id'].values)], \n",
    "                doc_ids=[i for i in joined_df['predict_100']],\n",
    "                scores=[i for i in joined_df['predict_100_score']]) # [[1.0] * 100 for i in range(len(joined_df))])"
   ]
  },
  {
   "cell_type": "code",
   "execution_count": 21,
   "id": "01f52d47",
   "metadata": {},
   "outputs": [
    {
     "data": {
      "text/plain": [
       "0.9777399624204771"
      ]
     },
     "execution_count": 21,
     "metadata": {},
     "output_type": "execute_result"
    }
   ],
   "source": [
    "evaluate(qrels, run, [\"mrr@100\"])"
   ]
  },
  {
   "cell_type": "markdown",
   "id": "35dc75f7",
   "metadata": {},
   "source": [
    "### Let's look at some statistics"
   ]
  },
  {
   "cell_type": "code",
   "execution_count": 3,
   "id": "9e9271a8",
   "metadata": {},
   "outputs": [],
   "source": [
    "vk = 'dev_docs/'\n",
    "ms = '../msmarco_data/'\n",
    "\n",
    "import pandas as pd\n",
    "vk_qrels = pd.read_csv(vk + 'qrels.tsv', names=['id', 'query_id', 'doc_id'],  sep='\\t')\n",
    "vk_docs = pd.read_csv(vk + 'docs.tsv', names=['id', 'doc_id', 'data'],  sep='\\t')\n",
    "vk_queries = pd.read_csv(vk + 'queries.tsv', names=['id', 'query_id', 'data'],  sep='\\t')\n",
    "\n",
    "ms_qrels = pd.read_csv(ms + 'qrels.tsv', names=['id', 'query_id', 'doc_id'],  sep='\\t')\n",
    "ms_docs = pd.read_csv(ms + 'docs.tsv', names=['id', 'doc_id', 'data'],  sep='\\t')\n",
    "ms_queries = pd.read_csv(ms + 'queries.tsv', names=['id', 'query_id', 'data'],  sep='\\t')"
   ]
  },
  {
   "cell_type": "code",
   "execution_count": 86,
   "id": "3a7871cb",
   "metadata": {},
   "outputs": [],
   "source": [
    "vk_docs['id'] = list(range(len(vk_docs)))\n",
    "vk_qrels['id'] = list(range(len(vk_qrels)))\n",
    "vk_queries['id'] = list(range(len(vk_queries)))\n",
    "\n",
    "vk_docs[['id', 'doc_id', 'data']].to_csv('docs.tsv', index=False,header=None, sep='\\t', encoding='utf-8')\n",
    "vk_qrels.to_csv('qrels.tsv', index=False, sep='\\t', header=None, encoding='utf-8')\n",
    "vk_queries[['id', 'query_id', 'data']].to_csv('queries.tsv', index=False, header=None, sep='\\t',  encoding='utf-8')"
   ]
  },
  {
   "cell_type": "code",
   "execution_count": 2,
   "id": "40f5ad78",
   "metadata": {
    "scrolled": true
   },
   "outputs": [],
   "source": [
    "# pd.set_option('display.max_colwidth', 150)\n",
    "# #pd.set_option('display.expand_frame_repr', False)\n",
    "# pd.DataFrame(vk_docs.data[5:15])"
   ]
  },
  {
   "cell_type": "code",
   "execution_count": 1,
   "id": "60271cc4",
   "metadata": {},
   "outputs": [],
   "source": [
    "# pd.set_option('display.max_colwidth', 300)\n",
    "# #pd.set_option('display.expand_frame_repr', False)\n",
    "# pd.DataFrame(vk_queries.data[-100:-50])"
   ]
  },
  {
   "cell_type": "code",
   "execution_count": 2,
   "id": "1fb9c3ff",
   "metadata": {},
   "outputs": [],
   "source": [
    "vk_docs['doc_length'] = vk_docs.data.apply(lambda x: len(str(x).split()))\n",
    "ms_docs['doc_length'] = ms_docs.data.apply(lambda x: len(str(x).split()))\n",
    "\n",
    "vk_queries['query_length'] = vk_queries.data.apply(lambda x: len(str(x).split()))\n",
    "ms_queries['query_length'] = ms_queries.data.apply(lambda x: len(str(x).split()))"
   ]
  },
  {
   "cell_type": "code",
   "execution_count": 32,
   "id": "de0f2ae6",
   "metadata": {},
   "outputs": [
    {
     "data": {
      "image/png": "[encoded data removed]",
      "text/plain": [
       "<Figure size 500x300 with 1 Axes>"
      ]
     },
     "metadata": {},
     "output_type": "display_data"
    }
   ],
   "source": [
    "import matplotlib.pyplot as plt\n",
    "fig = plt.figure(figsize=(5, 3))\n",
    "ax = fig.gca()\n",
    "ms_docs['doc_length'].hist(color='r', bins=30)\n",
    "plt.title('Распределение токенов в документах MSMarco');"
   ]
  },
  {
   "cell_type": "code",
   "execution_count": 33,
   "id": "c074cfe8",
   "metadata": {},
   "outputs": [
    {
     "data": {
      "image/png": "[encoded data removed]",
      "text/plain": [
       "<Figure size 500x300 with 1 Axes>"
      ]
     },
     "metadata": {},
     "output_type": "display_data"
    }
   ],
   "source": [
    "fig = plt.figure(figsize=(5, 3))\n",
    "ax = fig.gca()\n",
    "vk_docs['doc_length'].hist(color='g', bins=30)\n",
    "plt.title('Распределение токенов в документах VKDataset');"
   ]
  },
  {
   "cell_type": "code",
   "execution_count": 35,
   "id": "373d0e65",
   "metadata": {},
   "outputs": [
    {
     "data": {
      "text/plain": [
       "Text(0.5, 1.0, 'Распределение токенов в запросах MSMarco')"
      ]
     },
     "execution_count": 35,
     "metadata": {},
     "output_type": "execute_result"
    },
    {
     "data": {
      "image/png": "[encoded data removed]",
      "text/plain": [
       "<Figure size 500x300 with 1 Axes>"
      ]
     },
     "metadata": {},
     "output_type": "display_data"
    }
   ],
   "source": [
    "fig = plt.figure(figsize=(5, 3))\n",
    "ax = fig.gca()\n",
    "ms_queries['query_length'].hist(color='r', bins=30)\n",
    "plt.title('Распределение токенов в запросах MSMarco')"
   ]
  },
  {
   "cell_type": "code",
   "execution_count": 36,
   "id": "bc311e26",
   "metadata": {
    "scrolled": true
   },
   "outputs": [
    {
     "data": {
      "image/png": "[encoded data removed]",
      "text/plain": [
       "<Figure size 500x300 with 1 Axes>"
      ]
     },
     "metadata": {},
     "output_type": "display_data"
    }
   ],
   "source": [
    "fig = plt.figure(figsize=(5, 3))\n",
    "ax = fig.gca()\n",
    "vk_queries['query_length'].hist(color='r', bins=30)\n",
    "plt.title('Распределение токенов в запросах VKDataset');"
   ]
  },
  {
   "cell_type": "markdown",
   "id": "d8e65c75",
   "metadata": {},
   "source": [
    "### Do we want to look at real documents?\n",
    "## Считаем статистики по документам ВК и МС Марко"
   ]
  },
  {
   "cell_type": "code",
   "execution_count": 20,
   "id": "7682d54b",
   "metadata": {},
   "outputs": [],
   "source": [
    "import sys\n",
    "import os\n",
    "import csv\n",
    "import string\n",
    "csv.field_size_limit(sys.maxsize)\n",
    "\n",
    "vk_lengths = []\n",
    "with open(os.path.join('full_dataset/', 'docs.tsv'), 'r') as f:\n",
    "    csv_reader = csv.reader(f, delimiter='\\t')\n",
    "    for line in csv_reader:\n",
    "        id, doc_id, data = line\n",
    "        length = len(str(data).split())\n",
    "        if length > 0:\n",
    "            vk_lengths.append(length)"
   ]
  },
  {
   "cell_type": "code",
   "execution_count": 77,
   "id": "5e862d1d",
   "metadata": {},
   "outputs": [
    {
     "data": {
      "text/plain": [
       "3867"
      ]
     },
     "execution_count": 77,
     "metadata": {},
     "output_type": "execute_result"
    }
   ],
   "source": [
    "len([vk_lengths[i] for i in range(len(vk_lengths)) if vk_lengths[i] == 2499])"
   ]
  },
  {
   "cell_type": "code",
   "execution_count": 21,
   "id": "a09bff6a",
   "metadata": {},
   "outputs": [
    {
     "data": {
      "text/plain": [
       "(1304199, 998.2635211344281)"
      ]
     },
     "execution_count": 21,
     "metadata": {},
     "output_type": "execute_result"
    }
   ],
   "source": [
    "len(vk_lengths), sum(vk_lengths)/len(vk_lengths)"
   ]
  },
  {
   "cell_type": "code",
   "execution_count": 23,
   "id": "2cdff1e0",
   "metadata": {},
   "outputs": [],
   "source": [
    "import sys\n",
    "import csv\n",
    "import string\n",
    "csv.field_size_limit(sys.maxsize)\n",
    "msmarco_length = []\n",
    "\n",
    "with open('../msmarco_data/docs_400k.tsv', 'r') as f:\n",
    "    csv_reader = csv.reader(f, delimiter='\\t')\n",
    "    for line in csv_reader:\n",
    "        id_d, doc_id, data = line\n",
    "        doc_length = len(data.split())\n",
    "        msmarco_length.append(doc_length)"
   ]
  },
  {
   "cell_type": "code",
   "execution_count": 24,
   "id": "4e9c2ac5",
   "metadata": {},
   "outputs": [
    {
     "data": {
      "text/plain": [
       "(401855, 2095.857821851165)"
      ]
     },
     "execution_count": 24,
     "metadata": {},
     "output_type": "execute_result"
    }
   ],
   "source": [
    "len(msmarco_length), sum(msmarco_length)/len(msmarco_length)"
   ]
  },
  {
   "cell_type": "code",
   "execution_count": 59,
   "id": "4fa644c2",
   "metadata": {},
   "outputs": [],
   "source": [
    "vk_lengths = sorted(vk_lengths)\n",
    "msmarco_length = sorted(msmarco_length)\n",
    "\n",
    "vk_dict = {}\n",
    "for ln in vk_lengths:\n",
    "    if ln> 0:\n",
    "        vk_dict[ln] = vk_dict.get(ln, 0) + 1\n",
    "\n",
    "ms_dict = {}\n",
    "for ln in msmarco_length:\n",
    "    if ln > 0:\n",
    "        ms_dict[ln] = ms_dict.get(ln, 0) + 1"
   ]
  },
  {
   "cell_type": "markdown",
   "id": "42690d14",
   "metadata": {},
   "source": [
    "### Normilize:"
   ]
  },
  {
   "cell_type": "code",
   "execution_count": 36,
   "id": "8d10dcff",
   "metadata": {},
   "outputs": [],
   "source": [
    "for k, v in vk_dict.items():\n",
    "    v = v / len(vk_lengths)\n",
    "    vk_dict[k] = v\n",
    "    \n",
    "for k, v in ms_dict.items():\n",
    "    v = v / len(msmarco_length)\n",
    "    ms_dict[k] = v"
   ]
  },
  {
   "cell_type": "code",
   "execution_count": 78,
   "id": "48df1d5e",
   "metadata": {
    "scrolled": true
   },
   "outputs": [
    {
     "data": {
      "image/png": "[encoded data removed]",
      "text/plain": [
       "<Figure size 640x480 with 1 Axes>"
      ]
     },
     "metadata": {},
     "output_type": "display_data"
    }
   ],
   "source": [
    "import numpy as np\n",
    "import pandas as pd\n",
    "import matplotlib.pyplot as plt\n",
    "\n",
    "plt.plot(list(np.log(list(vk_dict.keys()))), list(vk_dict.values()), color = 'blue', label='VK Datset')\n",
    "plt.plot(np.log(list(ms_dict.keys())), list(ms_dict.values()), color = 'red', label='MS Marco')\n",
    "plt.title('Normalized number of tokens in documents')\n",
    "plt.xlabel('Log of document length')\n",
    "plt.legend()\n",
    "plt.ylabel('Normalized number of documents');"
   ]
  },
  {
   "cell_type": "markdown",
   "id": "6d8cdfd2",
   "metadata": {},
   "source": [
    "### Считаем статистики по запросам в ВК датасете и МС Марко"
   ]
  },
  {
   "cell_type": "code",
   "execution_count": 40,
   "id": "511cde3a",
   "metadata": {},
   "outputs": [],
   "source": [
    "vk_queries = []\n",
    "with open(os.path.join('full_dataset/', 'queries.tsv'), 'r') as f:\n",
    "    csv_reader = csv.reader(f, delimiter='\\t')\n",
    "    for line in csv_reader:\n",
    "        id, doc_id, data = line\n",
    "        length = len(str(data).split())\n",
    "        if length > 0:\n",
    "            vk_queries.append(length)"
   ]
  },
  {
   "cell_type": "code",
   "execution_count": 41,
   "id": "c783f848",
   "metadata": {
    "scrolled": true
   },
   "outputs": [
    {
     "data": {
      "text/plain": [
       "(54511, 5.7881528498835095)"
      ]
     },
     "execution_count": 41,
     "metadata": {},
     "output_type": "execute_result"
    }
   ],
   "source": [
    "len(vk_queries), sum(vk_queries)/len(vk_queries)"
   ]
  },
  {
   "cell_type": "code",
   "execution_count": 44,
   "id": "aaadcafc",
   "metadata": {},
   "outputs": [],
   "source": [
    "ms_queries = []\n",
    "with open(os.path.join('../msmarco_data/', 'msmarco-doctrain-queries.tsv'), 'r') as f:\n",
    "    csv_reader = csv.reader(f, delimiter='\\t')\n",
    "    for line in csv_reader:\n",
    "        id, data = line\n",
    "        length = len(str(data).split())\n",
    "        if length > 0:\n",
    "            ms_queries.append(length)"
   ]
  },
  {
   "cell_type": "code",
   "execution_count": 106,
   "id": "034e24ae",
   "metadata": {},
   "outputs": [
    {
     "data": {
      "text/plain": [
       "(367013, 5.951426788696858)"
      ]
     },
     "execution_count": 106,
     "metadata": {},
     "output_type": "execute_result"
    }
   ],
   "source": [
    "len(ms_queries), sum(ms_queries)/len(ms_queries)"
   ]
  },
  {
   "cell_type": "code",
   "execution_count": 49,
   "id": "c7cbacd4",
   "metadata": {},
   "outputs": [],
   "source": [
    "vk_qlengths = sorted(vk_queries)\n",
    "msmarco_qlength = sorted(ms_queries)\n",
    "\n",
    "vk_qdict = {}\n",
    "for ln in vk_qlengths:\n",
    "    if ln> 0:\n",
    "        vk_qdict[ln] = vk_qdict.get(ln, 0) + 1\n",
    "        \n",
    "ms_qdict = {}\n",
    "for ln in msmarco_qlength:\n",
    "    if ln > 0:\n",
    "        ms_qdict[ln] = ms_qdict.get(ln, 0) + 1"
   ]
  },
  {
   "cell_type": "markdown",
   "id": "1ad1bceb",
   "metadata": {},
   "source": [
    "### Normilize queries"
   ]
  },
  {
   "cell_type": "code",
   "execution_count": 50,
   "id": "4306efda",
   "metadata": {},
   "outputs": [],
   "source": [
    "for k, v in vk_qdict.items():\n",
    "    v = v / len(vk_queries)\n",
    "    vk_qdict[k] = v\n",
    "    \n",
    "for k, v in ms_qdict.items():\n",
    "    v = v / len(ms_queries)\n",
    "    ms_qdict[k] = v"
   ]
  },
  {
   "cell_type": "code",
   "execution_count": 53,
   "id": "2bf7ec58",
   "metadata": {},
   "outputs": [
    {
     "data": {
      "image/png": "[encoded data removed]",
      "text/plain": [
       "<Figure size 640x480 with 1 Axes>"
      ]
     },
     "metadata": {},
     "output_type": "display_data"
    }
   ],
   "source": [
    "import numpy as np\n",
    "import pandas as pd\n",
    "\n",
    "plt.plot(np.log(list(vk_qdict.keys())), list(vk_qdict.values()), color = 'blue', label='VK Datset')\n",
    "plt.plot(np.log(list(ms_qdict.keys())), list(ms_qdict.values()), color = 'red', label='MS Marco')\n",
    "plt.title('Normalized number of tokens in queries')\n",
    "plt.xlabel('Log of query length')\n",
    "plt.legend()\n",
    "plt.ylabel('Normalized number of queries');"
   ]
  },
  {
   "cell_type": "code",
   "execution_count": 110,
   "id": "8032babd",
   "metadata": {},
   "outputs": [
    {
     "data": {
      "image/png": "[encoded data removed]",
      "text/plain": [
       "<Figure size 640x480 with 1 Axes>"
      ]
     },
     "metadata": {},
     "output_type": "display_data"
    }
   ],
   "source": [
    "import numpy as np\n",
    "import pandas as pd\n",
    "\n",
    "plt.plot(np.log(list(vk_qdict.keys())), list(vk_qdict.values()), color = 'blue', label='VK Datset')\n",
    "plt.plot(np.log(list(ms_qdict.keys())), list(ms_qdict.values()), color = 'red', label='MS Marco')\n",
    "plt.title('Tokens in queries plot')\n",
    "plt.xlabel('Log of query length')\n",
    "plt.legend()\n",
    "plt.ylabel('CNT of queries');"
   ]
  },
  {
   "cell_type": "markdown",
   "id": "534bf941",
   "metadata": {},
   "source": [
    "### T5 model "
   ]
  },
  {
   "cell_type": "code",
   "execution_count": null,
   "id": "13877e18",
   "metadata": {},
   "outputs": [],
   "source": [
    "import torch\n",
    "from tqdm import tqdm\n",
    "from config.utils import DB_PATH\n",
    "from transformers import T5Tokenizer, T5ForConditionalGeneration\n",
    "from transformers import AutoTokenizer, AutoModelForSeq2SeqLM\n",
    "from query_generator import QueryGenerator\n",
    "from iterator import DBIterator\n",
    "\n",
    "DEVICE = \"cpu\"\n",
    "\n",
    "\n",
    "class NLPModel():\n",
    "    def __init__(self, model, tokenizer, min_length, max_length, num_first_tokens):\n",
    "        self.model = model\n",
    "        self.tokenizer = tokenizer\n",
    "        self.max_length = max_length\n",
    "        self.min_length = min_length\n",
    "        self.num_first_tokens = num_first_tokens\n",
    "\n",
    "    def __call__(self, list_docs):\n",
    "        splitted_tokens = [txt.split()[:self.num_first_tokens] for txt in list_docs]\n",
    "        texts = [' '.join(tokens) for tokens in splitted_tokens]\n",
    "        texts = [WHITESPACE_HANDLER(text) for text in texts]\n",
    "        #texts = ['summarize: ' + txt for txt in texts]\n",
    "        token_batch = self.tokenizer(texts, truncation=True, padding=\"max_length\",\n",
    "                                     return_tensors=\"pt\").to(DEVICE)\n",
    "        summ = self.model.generate(**token_batch, min_length=self.min_length,\n",
    "                                     max_length=self.max_length)\n",
    "        decoded_summ = self.tokenizer.batch_decode(summ, max_length=self.max_length,\n",
    "                                                   num_beams=4,\n",
    "                                                   skip_special_tokens=True)\n",
    "        return decoded_summ\n",
    "\n",
    "\n",
    "if __name__ == '__main__':\n",
    "    model_list_names = [\"csebuetnlp/mT5_multilingual_XLSum\", ]\n",
    "    model_name =  'cointegrated/rut5-base-absum' #\"csebuetnlp/mT5_multilingual_XLSum\" #\"t5-small\"\n",
    "    EXPERIMENT_NAME = 'mT5_multilingual_XLSum'\n",
    "    WHITESPACE_HANDLER = lambda k: re.sub('\\s+', ' ', re.sub('\\n+', ' ', k.strip()))\n",
    "\n",
    "    BS = 15\n",
    "    #model = T5ForConditionalGeneration.from_pretrained(model_name).to(DEVICE)\n",
    "    model = AutoModelForSeq2SeqLM.from_pretrained(model_name)\n",
    "    tokenizer = AutoTokenizer.from_pretrained(model_name) #T5Tokenizer.from_pretrained(model_name)\n",
    "    nlp_model = NLPModel(model, tokenizer, 0, 100, 100)\n",
    "    experiment = QueryGenerator(nlp_model, EXPERIMENT_NAME, db_path=DB_PATH)\n",
    "    db_iterator = DBIterator('DOCS', batch_size=BS, db_path=DB_PATH)\n",
    "    for batch_data in tqdm(db_iterator):\n",
    "        experiment.generate_query(batch_data)\n"
   ]
  },
  {
   "cell_type": "markdown",
   "id": "cd16c00b",
   "metadata": {},
   "source": [
    "### Full MSMarco"
   ]
  },
  {
   "cell_type": "code",
   "execution_count": 6,
   "id": "f9ab39d3",
   "metadata": {},
   "outputs": [],
   "source": [
    "import sys\n",
    "import csv\n",
    "import string\n",
    "csv.field_size_limit(sys.maxsize)\n",
    "docs_length = []\n",
    "\n",
    "with open('docs_400k.tsv', 'r') as f:\n",
    "    csv_reader = csv.reader(f, delimiter='\\t')\n",
    "    for line in csv_reader:\n",
    "        id_d, doc_id, data = line\n",
    "        doc_length = len(data.split())\n",
    "        docs_length.append(doc_length)"
   ]
  },
  {
   "cell_type": "code",
   "execution_count": 8,
   "id": "19a37cbe",
   "metadata": {},
   "outputs": [
    {
     "data": {
      "text/plain": [
       "(401855, 2095.857821851165)"
      ]
     },
     "execution_count": 8,
     "metadata": {},
     "output_type": "execute_result"
    }
   ],
   "source": [
    "len(docs_length), sum(docs_length)/len(docs_length)"
   ]
  }
 ],
 "metadata": {
  "kernelspec": {
   "display_name": "Python 3 (ipykernel)",
   "language": "python",
   "name": "python3"
  },
  "language_info": {
   "codemirror_mode": {
    "name": "ipython",
    "version": 3
   },
   "file_extension": ".py",
   "mimetype": "text/x-python",
   "name": "python",
   "nbconvert_exporter": "python",
   "pygments_lexer": "ipython3",
   "version": "3.10.9"
  }
 },
 "nbformat": 4,
 "nbformat_minor": 5
}
