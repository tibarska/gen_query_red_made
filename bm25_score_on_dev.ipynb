{
 "cells": [
  {
   "cell_type": "markdown",
   "id": "8fa7bcd8",
   "metadata": {},
   "source": [
    "### BM25 DEV_0, DEV_1"
   ]
  },
  {
   "cell_type": "code",
   "execution_count": 2,
   "id": "0f5ff1f8",
   "metadata": {},
   "outputs": [],
   "source": [
    "import os\n",
    "from rank_bm25 import BM25Okapi\n",
    "import pandas as pd\n",
    "import numpy as np\n",
    "\n",
    "raw_dir = 'raw'\n",
    "processed_dir = 'data'\n",
    "BATCH_SIZE = 10\n",
    "if not os.path.exists(raw_dir):\n",
    "    os.mkdir(raw_dir)\n",
    "\n",
    "if not os.path.exists(processed_dir):\n",
    "    os.mkdir(processed_dir)"
   ]
  },
  {
   "cell_type": "code",
   "execution_count": 3,
   "id": "2fa45803",
   "metadata": {},
   "outputs": [],
   "source": [
    "raw_doc = 'docdev-stopstem.xml_1.out'\n",
    "raw_qrels = 'msmarco-docdev-qrels.tsv'\n",
    "raw_queries = 'queries.docdev.tsv'\n",
    "\n",
    "preproc_doc = 'docs.tsv'\n",
    "preproc_qrels = 'qrels.tsv'\n",
    "preproc_queries = 'queries.tsv'"
   ]
  },
  {
   "cell_type": "code",
   "execution_count": 4,
   "id": "41e62937",
   "metadata": {},
   "outputs": [],
   "source": [
    "def read_local_files(raw_dir=raw_dir):\n",
    "    df = pd.read_csv(os.path.join(raw_dir, 'docdev-stopstem.xml_1.out'), names=['query_id', 'q0', 'doc_id', 'rank', 'score', 'text'],  sep=' ')\n",
    "    df_qrels = pd.read_csv(os.path.join(raw_dir, 'msmarco-docdev-qrels.tsv'), sep=' ', names=['query_id', 'rank_0', 'doc_id', 'rank_1'])\n",
    "    df_queries = pd.read_csv(os.path.join(raw_dir, 'queries.docdev.tsv'), sep='\\t', names=['query_id', 'data'])\n",
    "    df_docs = pd.read_csv(os.path.join(raw_dir, 'docs.tsv'), sep='\\t', names=['id', 'doc_id', 'data'])\n",
    "\n",
    "    df_qrels['id'] = df_qrels.index\n",
    "    df_qrels = df_qrels[['id', 'query_id', 'doc_id']]\n",
    "\n",
    "    df_queries['id'] = df_queries.index\n",
    "    df_queries = df_queries[['id', 'query_id', 'data']]\n",
    "    return df_docs, df_qrels, df_queries"
   ]
  },
  {
   "cell_type": "code",
   "execution_count": 5,
   "id": "ce498a3b",
   "metadata": {},
   "outputs": [],
   "source": [
    "def create_joined_file(df_docs, df_qrels, df_queries, path_processed_joined=None):\n",
    "    joined_df = df_qrels.merge(df_queries, on='query_id').merge(df_docs, on='doc_id', how='left')[['query_id', 'data_x', 'doc_id', 'data_y']]\n",
    "    joined_df.rename(columns={'data_x':'query_data', 'data_y':'doc_data'}, inplace=True)\n",
    "    if path_processed_joined:\n",
    "        joined_df.to_csv(path_processed_joined, sep='\\t', index=None, header=None)\n",
    "    return joined_df"
   ]
  },
  {
   "cell_type": "markdown",
   "id": "dfa532e4",
   "metadata": {},
   "source": [
    "### Reading files from raw dir. Creating first joined view for batch iterator"
   ]
  },
  {
   "cell_type": "code",
   "execution_count": 6,
   "id": "d75e4017",
   "metadata": {},
   "outputs": [],
   "source": [
    "df_docs, df_qrels, df_queries = read_local_files()\n",
    "joined_df = create_joined_file(df_docs, df_qrels, df_queries)"
   ]
  },
  {
   "cell_type": "code",
   "execution_count": 14,
   "id": "04d88972",
   "metadata": {
    "scrolled": false
   },
   "outputs": [
    {
     "data": {
      "text/html": [
       "<div>\n",
       "<style scoped>\n",
       "    .dataframe tbody tr th:only-of-type {\n",
       "        vertical-align: middle;\n",
       "    }\n",
       "\n",
       "    .dataframe tbody tr th {\n",
       "        vertical-align: top;\n",
       "    }\n",
       "\n",
       "    .dataframe thead th {\n",
       "        text-align: right;\n",
       "    }\n",
       "</style>\n",
       "<table border=\"1\" class=\"dataframe\">\n",
       "  <thead>\n",
       "    <tr style=\"text-align: right;\">\n",
       "      <th></th>\n",
       "      <th>query_id</th>\n",
       "      <th>query_data</th>\n",
       "      <th>doc_id</th>\n",
       "      <th>doc_data</th>\n",
       "    </tr>\n",
       "  </thead>\n",
       "  <tbody>\n",
       "    <tr>\n",
       "      <th>0</th>\n",
       "      <td>2</td>\n",
       "      <td>androgen receptor define</td>\n",
       "      <td>D1650436</td>\n",
       "      <td>\"From Wikipedia, the free encyclopedianavigati...</td>\n",
       "    </tr>\n",
       "    <tr>\n",
       "      <th>1</th>\n",
       "      <td>1215</td>\n",
       "      <td>3 levels of government in canada and their res...</td>\n",
       "      <td>D1202771</td>\n",
       "      <td>Immigration &amp; Citizenship Canadian Government ...</td>\n",
       "    </tr>\n",
       "    <tr>\n",
       "      <th>2</th>\n",
       "      <td>1288</td>\n",
       "      <td>3/5 of 60</td>\n",
       "      <td>D1547717</td>\n",
       "      <td>Science &amp; Mathematics Mathematics What is 3/5 ...</td>\n",
       "    </tr>\n",
       "    <tr>\n",
       "      <th>3</th>\n",
       "      <td>1576</td>\n",
       "      <td>60x40 slab cost</td>\n",
       "      <td>D1313702</td>\n",
       "      <td>\"Forum Dock Side (Discussion) PB Open Water Co...</td>\n",
       "    </tr>\n",
       "    <tr>\n",
       "      <th>4</th>\n",
       "      <td>2235</td>\n",
       "      <td>bethel university was founded in what year</td>\n",
       "      <td>D2113408</td>\n",
       "      <td>73% of our students get into one of their top ...</td>\n",
       "    </tr>\n",
       "  </tbody>\n",
       "</table>\n",
       "</div>"
      ],
      "text/plain": [
       "   query_id                                         query_data    doc_id  \\\n",
       "0         2                           androgen receptor define  D1650436   \n",
       "1      1215  3 levels of government in canada and their res...  D1202771   \n",
       "2      1288                                          3/5 of 60  D1547717   \n",
       "3      1576                                    60x40 slab cost  D1313702   \n",
       "4      2235         bethel university was founded in what year  D2113408   \n",
       "\n",
       "                                            doc_data  \n",
       "0  \"From Wikipedia, the free encyclopedianavigati...  \n",
       "1  Immigration & Citizenship Canadian Government ...  \n",
       "2  Science & Mathematics Mathematics What is 3/5 ...  \n",
       "3  \"Forum Dock Side (Discussion) PB Open Water Co...  \n",
       "4  73% of our students get into one of their top ...  "
      ]
     },
     "execution_count": 14,
     "metadata": {},
     "output_type": "execute_result"
    }
   ],
   "source": [
    "joined_df.head()"
   ]
  },
  {
   "cell_type": "markdown",
   "id": "38c82379",
   "metadata": {},
   "source": [
    "### Baseline DEV_0. We will use bm25 to predict mrr100 on documents only\n",
    "Queries in this this case are empty strings"
   ]
  },
  {
   "cell_type": "code",
   "execution_count": 15,
   "id": "776159db",
   "metadata": {
    "scrolled": true
   },
   "outputs": [
    {
     "name": "stdout",
     "output_type": "stream",
     "text": [
      "5185 5193 5193\n"
     ]
    },
    {
     "data": {
      "text/html": [
       "<div>\n",
       "<style scoped>\n",
       "    .dataframe tbody tr th:only-of-type {\n",
       "        vertical-align: middle;\n",
       "    }\n",
       "\n",
       "    .dataframe tbody tr th {\n",
       "        vertical-align: top;\n",
       "    }\n",
       "\n",
       "    .dataframe thead th {\n",
       "        text-align: right;\n",
       "    }\n",
       "</style>\n",
       "<table border=\"1\" class=\"dataframe\">\n",
       "  <thead>\n",
       "    <tr style=\"text-align: right;\">\n",
       "      <th></th>\n",
       "      <th>query_id</th>\n",
       "      <th>query_data</th>\n",
       "      <th>doc_id</th>\n",
       "      <th>doc_data</th>\n",
       "    </tr>\n",
       "  </thead>\n",
       "  <tbody>\n",
       "    <tr>\n",
       "      <th>0</th>\n",
       "      <td>2</td>\n",
       "      <td>androgen receptor define</td>\n",
       "      <td>D1650436</td>\n",
       "      <td>\"From Wikipedia, the free encyclopedianavigati...</td>\n",
       "    </tr>\n",
       "    <tr>\n",
       "      <th>1</th>\n",
       "      <td>1215</td>\n",
       "      <td>3 levels of government in canada and their res...</td>\n",
       "      <td>D1202771</td>\n",
       "      <td>Immigration &amp; Citizenship Canadian Government ...</td>\n",
       "    </tr>\n",
       "    <tr>\n",
       "      <th>2</th>\n",
       "      <td>1288</td>\n",
       "      <td>3/5 of 60</td>\n",
       "      <td>D1547717</td>\n",
       "      <td>Science &amp; Mathematics Mathematics What is 3/5 ...</td>\n",
       "    </tr>\n",
       "  </tbody>\n",
       "</table>\n",
       "</div>"
      ],
      "text/plain": [
       "   query_id                                         query_data    doc_id  \\\n",
       "0         2                           androgen receptor define  D1650436   \n",
       "1      1215  3 levels of government in canada and their res...  D1202771   \n",
       "2      1288                                          3/5 of 60  D1547717   \n",
       "\n",
       "                                            doc_data  \n",
       "0  \"From Wikipedia, the free encyclopedianavigati...  \n",
       "1  Immigration & Citizenship Canadian Government ...  \n",
       "2  Science & Mathematics Mathematics What is 3/5 ...  "
      ]
     },
     "execution_count": 15,
     "metadata": {},
     "output_type": "execute_result"
    }
   ],
   "source": [
    "df_docs, df_qrels, df_queries = read_local_files()\n",
    "print(len(df_docs), len(df_qrels), len(df_queries))\n",
    "joined_df = create_joined_file(df_docs, df_qrels, df_queries)\n",
    "joined_df.head(3)"
   ]
  },
  {
   "cell_type": "code",
   "execution_count": 16,
   "id": "6e5ca97a",
   "metadata": {},
   "outputs": [],
   "source": [
    "corpus = list(joined_df['doc_data'].values)\n",
    "tokenized_corpus = [corp.split(\" \") for corp in corpus]\n",
    "\n",
    "bm25 = BM25Okapi(tokenized_corpus)"
   ]
  },
  {
   "cell_type": "code",
   "execution_count": 11,
   "id": "e56d2327",
   "metadata": {},
   "outputs": [],
   "source": [
    "def predicting_100_top_doc_id(joined_df, bm25):\n",
    "    predict_on_query = []\n",
    "    predicted_scores = []\n",
    "    for query_id, query in zip(list(joined_df['query_id']), list(joined_df['query_data'])):\n",
    "        query = query.split()\n",
    "        score = bm25.get_scores(query)\n",
    "        top_100_scores = np.round(score[score >= pd.Series(score).nlargest(100).values[-1]], 1)# score[score >= pd.Series(score).nlargest(100).values[-1]]\n",
    "        top_100_doc_id = joined_df['doc_id'][score >= pd.Series(score).nlargest(100).values[-1]].values\n",
    "        score_dicts = [{doc:score} for (doc, score) in zip(top_100_doc_id, top_100_scores)]\n",
    "        predict_on_query.append(list(top_100_doc_id))\n",
    "        predicted_scores.append(list(top_100_scores))\n",
    "    return predict_on_query, predicted_scores"
   ]
  },
  {
   "cell_type": "code",
   "execution_count": 18,
   "id": "18ff7526",
   "metadata": {},
   "outputs": [
    {
     "data": {
      "text/html": [
       "<div>\n",
       "<style scoped>\n",
       "    .dataframe tbody tr th:only-of-type {\n",
       "        vertical-align: middle;\n",
       "    }\n",
       "\n",
       "    .dataframe tbody tr th {\n",
       "        vertical-align: top;\n",
       "    }\n",
       "\n",
       "    .dataframe thead th {\n",
       "        text-align: right;\n",
       "    }\n",
       "</style>\n",
       "<table border=\"1\" class=\"dataframe\">\n",
       "  <thead>\n",
       "    <tr style=\"text-align: right;\">\n",
       "      <th></th>\n",
       "      <th>query_id</th>\n",
       "      <th>query_data</th>\n",
       "      <th>doc_id</th>\n",
       "      <th>doc_data</th>\n",
       "      <th>predict_100</th>\n",
       "      <th>predict_100_score</th>\n",
       "    </tr>\n",
       "  </thead>\n",
       "  <tbody>\n",
       "    <tr>\n",
       "      <th>0</th>\n",
       "      <td>2</td>\n",
       "      <td>androgen receptor define</td>\n",
       "      <td>D1650436</td>\n",
       "      <td>\"From Wikipedia, the free encyclopedianavigati...</td>\n",
       "      <td>[D1650436, D344906, D993875, D2339274, D802481...</td>\n",
       "      <td>[26.0, 6.1, 4.1, 7.7, 10.0, 5.3, 4.9, 5.8, 5.3...</td>\n",
       "    </tr>\n",
       "    <tr>\n",
       "      <th>1</th>\n",
       "      <td>1215</td>\n",
       "      <td>3 levels of government in canada and their res...</td>\n",
       "      <td>D1202771</td>\n",
       "      <td>Immigration &amp; Citizenship Canadian Government ...</td>\n",
       "      <td>[D1202771, D1361055, D22461, D2339274, D217536...</td>\n",
       "      <td>[24.7, 20.8, 19.4, 20.4, 19.5, 19.2, 21.2, 20....</td>\n",
       "    </tr>\n",
       "    <tr>\n",
       "      <th>2</th>\n",
       "      <td>1288</td>\n",
       "      <td>3/5 of 60</td>\n",
       "      <td>D1547717</td>\n",
       "      <td>Science &amp; Mathematics Mathematics What is 3/5 ...</td>\n",
       "      <td>[D1547717, D815091, D855092, D3461202, D628872...</td>\n",
       "      <td>[26.6, 10.1, 8.5, 9.7, 9.1, 9.6, 8.1, 9.0, 8.8...</td>\n",
       "    </tr>\n",
       "  </tbody>\n",
       "</table>\n",
       "</div>"
      ],
      "text/plain": [
       "   query_id                                         query_data    doc_id  \\\n",
       "0         2                           androgen receptor define  D1650436   \n",
       "1      1215  3 levels of government in canada and their res...  D1202771   \n",
       "2      1288                                          3/5 of 60  D1547717   \n",
       "\n",
       "                                            doc_data  \\\n",
       "0  \"From Wikipedia, the free encyclopedianavigati...   \n",
       "1  Immigration & Citizenship Canadian Government ...   \n",
       "2  Science & Mathematics Mathematics What is 3/5 ...   \n",
       "\n",
       "                                         predict_100  \\\n",
       "0  [D1650436, D344906, D993875, D2339274, D802481...   \n",
       "1  [D1202771, D1361055, D22461, D2339274, D217536...   \n",
       "2  [D1547717, D815091, D855092, D3461202, D628872...   \n",
       "\n",
       "                                   predict_100_score  \n",
       "0  [26.0, 6.1, 4.1, 7.7, 10.0, 5.3, 4.9, 5.8, 5.3...  \n",
       "1  [24.7, 20.8, 19.4, 20.4, 19.5, 19.2, 21.2, 20....  \n",
       "2  [26.6, 10.1, 8.5, 9.7, 9.1, 9.6, 8.1, 9.0, 8.8...  "
      ]
     },
     "execution_count": 18,
     "metadata": {},
     "output_type": "execute_result"
    }
   ],
   "source": [
    "joined_df['predict_100'], joined_df['predict_100_score'] = predicting_100_top_doc_id(joined_df, bm25)\n",
    "joined_df.head(3)"
   ]
  },
  {
   "cell_type": "code",
   "execution_count": 19,
   "id": "fa8a2d2f",
   "metadata": {},
   "outputs": [
    {
     "data": {
      "text/plain": [
       "0.5366385958226686"
      ]
     },
     "execution_count": 19,
     "metadata": {},
     "output_type": "execute_result"
    }
   ],
   "source": [
    "from rank_eval import Qrels, Run, evaluate\n",
    "qrels = Qrels()\n",
    "qrels.add_multi(q_ids=[str(i) for i in list(joined_df['query_id'].values)], \n",
    "                doc_ids=[[i] for i in joined_df['doc_id']],\n",
    "                scores=[[1.0] for i in range(len(joined_df))])\n",
    "\n",
    "run = Run()\n",
    "run.add_multi(q_ids=[str(i) for i in list(joined_df['query_id'].values)], \n",
    "                doc_ids=[i for i in joined_df['predict_100']],\n",
    "                scores=[i for i in joined_df['predict_100_score']])\n",
    "\n",
    "evaluate(qrels, run, [\"mrr@100\"])"
   ]
  },
  {
   "cell_type": "markdown",
   "id": "d5ea270d",
   "metadata": {},
   "source": [
    "### Baseline DEV_1. We will use bm25 to predict mrr100 of docs + ideal queries"
   ]
  },
  {
   "cell_type": "code",
   "execution_count": 7,
   "id": "b0dcd101",
   "metadata": {
    "scrolled": true
   },
   "outputs": [
    {
     "name": "stdout",
     "output_type": "stream",
     "text": [
      "5185 5193 5193\n"
     ]
    },
    {
     "data": {
      "text/html": [
       "<div>\n",
       "<style scoped>\n",
       "    .dataframe tbody tr th:only-of-type {\n",
       "        vertical-align: middle;\n",
       "    }\n",
       "\n",
       "    .dataframe tbody tr th {\n",
       "        vertical-align: top;\n",
       "    }\n",
       "\n",
       "    .dataframe thead th {\n",
       "        text-align: right;\n",
       "    }\n",
       "</style>\n",
       "<table border=\"1\" class=\"dataframe\">\n",
       "  <thead>\n",
       "    <tr style=\"text-align: right;\">\n",
       "      <th></th>\n",
       "      <th>query_id</th>\n",
       "      <th>query_data</th>\n",
       "      <th>doc_id</th>\n",
       "      <th>doc_data</th>\n",
       "    </tr>\n",
       "  </thead>\n",
       "  <tbody>\n",
       "    <tr>\n",
       "      <th>0</th>\n",
       "      <td>2</td>\n",
       "      <td>androgen receptor define</td>\n",
       "      <td>D1650436</td>\n",
       "      <td>\"From Wikipedia, the free encyclopedianavigati...</td>\n",
       "    </tr>\n",
       "    <tr>\n",
       "      <th>1</th>\n",
       "      <td>1215</td>\n",
       "      <td>3 levels of government in canada and their res...</td>\n",
       "      <td>D1202771</td>\n",
       "      <td>Immigration &amp; Citizenship Canadian Government ...</td>\n",
       "    </tr>\n",
       "    <tr>\n",
       "      <th>2</th>\n",
       "      <td>1288</td>\n",
       "      <td>3/5 of 60</td>\n",
       "      <td>D1547717</td>\n",
       "      <td>Science &amp; Mathematics Mathematics What is 3/5 ...</td>\n",
       "    </tr>\n",
       "  </tbody>\n",
       "</table>\n",
       "</div>"
      ],
      "text/plain": [
       "   query_id                                         query_data    doc_id  \\\n",
       "0         2                           androgen receptor define  D1650436   \n",
       "1      1215  3 levels of government in canada and their res...  D1202771   \n",
       "2      1288                                          3/5 of 60  D1547717   \n",
       "\n",
       "                                            doc_data  \n",
       "0  \"From Wikipedia, the free encyclopedianavigati...  \n",
       "1  Immigration & Citizenship Canadian Government ...  \n",
       "2  Science & Mathematics Mathematics What is 3/5 ...  "
      ]
     },
     "execution_count": 7,
     "metadata": {},
     "output_type": "execute_result"
    }
   ],
   "source": [
    "df_docs, df_qrels, df_queries = read_local_files()\n",
    "print(len(df_docs), len(df_qrels), len(df_queries))\n",
    "joined_df = create_joined_file(df_docs, df_qrels, df_queries)\n",
    "joined_df.head(3)"
   ]
  },
  {
   "cell_type": "code",
   "execution_count": 8,
   "id": "94aeef3f",
   "metadata": {},
   "outputs": [
    {
     "data": {
      "text/html": [
       "<div>\n",
       "<style scoped>\n",
       "    .dataframe tbody tr th:only-of-type {\n",
       "        vertical-align: middle;\n",
       "    }\n",
       "\n",
       "    .dataframe tbody tr th {\n",
       "        vertical-align: top;\n",
       "    }\n",
       "\n",
       "    .dataframe thead th {\n",
       "        text-align: right;\n",
       "    }\n",
       "</style>\n",
       "<table border=\"1\" class=\"dataframe\">\n",
       "  <thead>\n",
       "    <tr style=\"text-align: right;\">\n",
       "      <th></th>\n",
       "      <th>query_id</th>\n",
       "      <th>query_data</th>\n",
       "      <th>doc_id</th>\n",
       "      <th>doc_data</th>\n",
       "      <th>old_doc_data</th>\n",
       "    </tr>\n",
       "  </thead>\n",
       "  <tbody>\n",
       "    <tr>\n",
       "      <th>0</th>\n",
       "      <td>2</td>\n",
       "      <td>androgen receptor define</td>\n",
       "      <td>D1650436</td>\n",
       "      <td>androgen receptor define \"From Wikipedia, the...</td>\n",
       "      <td>\"From Wikipedia, the free encyclopedianavigati...</td>\n",
       "    </tr>\n",
       "    <tr>\n",
       "      <th>1</th>\n",
       "      <td>1215</td>\n",
       "      <td>3 levels of government in canada and their res...</td>\n",
       "      <td>D1202771</td>\n",
       "      <td>3 levels of government in canada and their res...</td>\n",
       "      <td>Immigration &amp; Citizenship Canadian Government ...</td>\n",
       "    </tr>\n",
       "    <tr>\n",
       "      <th>2</th>\n",
       "      <td>1288</td>\n",
       "      <td>3/5 of 60</td>\n",
       "      <td>D1547717</td>\n",
       "      <td>3/5 of 60 Science &amp; Mathematics Mathematics Wh...</td>\n",
       "      <td>Science &amp; Mathematics Mathematics What is 3/5 ...</td>\n",
       "    </tr>\n",
       "  </tbody>\n",
       "</table>\n",
       "</div>"
      ],
      "text/plain": [
       "   query_id                                         query_data    doc_id  \\\n",
       "0         2                           androgen receptor define  D1650436   \n",
       "1      1215  3 levels of government in canada and their res...  D1202771   \n",
       "2      1288                                          3/5 of 60  D1547717   \n",
       "\n",
       "                                            doc_data  \\\n",
       "0   androgen receptor define \"From Wikipedia, the...   \n",
       "1  3 levels of government in canada and their res...   \n",
       "2  3/5 of 60 Science & Mathematics Mathematics Wh...   \n",
       "\n",
       "                                        old_doc_data  \n",
       "0  \"From Wikipedia, the free encyclopedianavigati...  \n",
       "1  Immigration & Citizenship Canadian Government ...  \n",
       "2  Science & Mathematics Mathematics What is 3/5 ...  "
      ]
     },
     "execution_count": 8,
     "metadata": {},
     "output_type": "execute_result"
    }
   ],
   "source": [
    "joined_df['old_doc_data'] = joined_df['doc_data']\n",
    "joined_df['doc_data'] = joined_df['query_data'] + ' ' + joined_df['doc_data']\n",
    "joined_df.head(3)"
   ]
  },
  {
   "cell_type": "code",
   "execution_count": 9,
   "id": "8f574769",
   "metadata": {},
   "outputs": [],
   "source": [
    "corpus = list(joined_df['doc_data'].values)\n",
    "tokenized_corpus = [corp.split(\" \") for corp in corpus]\n",
    "\n",
    "bm25 = BM25Okapi(tokenized_corpus)"
   ]
  },
  {
   "cell_type": "code",
   "execution_count": 12,
   "id": "a83898bf",
   "metadata": {},
   "outputs": [
    {
     "data": {
      "text/html": [
       "<div>\n",
       "<style scoped>\n",
       "    .dataframe tbody tr th:only-of-type {\n",
       "        vertical-align: middle;\n",
       "    }\n",
       "\n",
       "    .dataframe tbody tr th {\n",
       "        vertical-align: top;\n",
       "    }\n",
       "\n",
       "    .dataframe thead th {\n",
       "        text-align: right;\n",
       "    }\n",
       "</style>\n",
       "<table border=\"1\" class=\"dataframe\">\n",
       "  <thead>\n",
       "    <tr style=\"text-align: right;\">\n",
       "      <th></th>\n",
       "      <th>query_id</th>\n",
       "      <th>query_data</th>\n",
       "      <th>doc_id</th>\n",
       "      <th>doc_data</th>\n",
       "      <th>old_doc_data</th>\n",
       "      <th>predict_100</th>\n",
       "      <th>predict_100_score</th>\n",
       "    </tr>\n",
       "  </thead>\n",
       "  <tbody>\n",
       "    <tr>\n",
       "      <th>0</th>\n",
       "      <td>2</td>\n",
       "      <td>androgen receptor define</td>\n",
       "      <td>D1650436</td>\n",
       "      <td>androgen receptor define \"From Wikipedia, the...</td>\n",
       "      <td>\"From Wikipedia, the free encyclopedianavigati...</td>\n",
       "      <td>[D1650436, D344906, D2339274, D802481, D104368...</td>\n",
       "      <td>[27.0, 6.0, 7.7, 10.0, 5.3, 4.8, 4.6, 5.3, 4.6...</td>\n",
       "    </tr>\n",
       "    <tr>\n",
       "      <th>1</th>\n",
       "      <td>1215</td>\n",
       "      <td>3 levels of government in canada and their res...</td>\n",
       "      <td>D1202771</td>\n",
       "      <td>3 levels of government in canada and their res...</td>\n",
       "      <td>Immigration &amp; Citizenship Canadian Government ...</td>\n",
       "      <td>[D1202771, D1361055, D22461, D2339274, D217536...</td>\n",
       "      <td>[39.7, 20.8, 19.4, 20.4, 19.5, 19.2, 21.2, 20....</td>\n",
       "    </tr>\n",
       "    <tr>\n",
       "      <th>2</th>\n",
       "      <td>1288</td>\n",
       "      <td>3/5 of 60</td>\n",
       "      <td>D1547717</td>\n",
       "      <td>3/5 of 60 Science &amp; Mathematics Mathematics Wh...</td>\n",
       "      <td>Science &amp; Mathematics Mathematics What is 3/5 ...</td>\n",
       "      <td>[D1547717, D815091, D855092, D3461202, D628872...</td>\n",
       "      <td>[27.2, 10.1, 8.5, 9.7, 9.1, 9.6, 8.1, 9.0, 8.8...</td>\n",
       "    </tr>\n",
       "  </tbody>\n",
       "</table>\n",
       "</div>"
      ],
      "text/plain": [
       "   query_id                                         query_data    doc_id  \\\n",
       "0         2                           androgen receptor define  D1650436   \n",
       "1      1215  3 levels of government in canada and their res...  D1202771   \n",
       "2      1288                                          3/5 of 60  D1547717   \n",
       "\n",
       "                                            doc_data  \\\n",
       "0   androgen receptor define \"From Wikipedia, the...   \n",
       "1  3 levels of government in canada and their res...   \n",
       "2  3/5 of 60 Science & Mathematics Mathematics Wh...   \n",
       "\n",
       "                                        old_doc_data  \\\n",
       "0  \"From Wikipedia, the free encyclopedianavigati...   \n",
       "1  Immigration & Citizenship Canadian Government ...   \n",
       "2  Science & Mathematics Mathematics What is 3/5 ...   \n",
       "\n",
       "                                         predict_100  \\\n",
       "0  [D1650436, D344906, D2339274, D802481, D104368...   \n",
       "1  [D1202771, D1361055, D22461, D2339274, D217536...   \n",
       "2  [D1547717, D815091, D855092, D3461202, D628872...   \n",
       "\n",
       "                                   predict_100_score  \n",
       "0  [27.0, 6.0, 7.7, 10.0, 5.3, 4.8, 4.6, 5.3, 4.6...  \n",
       "1  [39.7, 20.8, 19.4, 20.4, 19.5, 19.2, 21.2, 20....  \n",
       "2  [27.2, 10.1, 8.5, 9.7, 9.1, 9.6, 8.1, 9.0, 8.8...  "
      ]
     },
     "execution_count": 12,
     "metadata": {},
     "output_type": "execute_result"
    }
   ],
   "source": [
    "# predict 100 docs on the added queries and docs\n",
    "joined_df['predict_100'], joined_df['predict_100_score'] = predicting_100_top_doc_id(joined_df, bm25)\n",
    "joined_df.head(3)"
   ]
  },
  {
   "cell_type": "code",
   "execution_count": 13,
   "id": "b3220c3f",
   "metadata": {},
   "outputs": [],
   "source": [
    "from rank_eval import Qrels, Run, evaluate\n",
    "qrels = Qrels()\n",
    "qrels.add_multi(q_ids=[str(i) for i in list(joined_df['query_id'].values)], \n",
    "                doc_ids=[[i] for i in joined_df['doc_id']],\n",
    "                scores=[[1.0] for i in range(len(joined_df))])\n",
    "\n",
    "run = Run()\n",
    "run.add_multi(q_ids=[str(i) for i in list(joined_df['query_id'].values)], \n",
    "                doc_ids=[i for i in joined_df['predict_100']],\n",
    "                scores=[i for i in joined_df['predict_100_score']]) # [[1.0] * 100 for i in range(len(joined_df))])"
   ]
  },
  {
   "cell_type": "code",
   "execution_count": 14,
   "id": "f96a8c35",
   "metadata": {},
   "outputs": [
    {
     "data": {
      "text/plain": [
       "0.9534587917203479"
      ]
     },
     "execution_count": 14,
     "metadata": {},
     "output_type": "execute_result"
    }
   ],
   "source": [
    "evaluate(qrels, run, [\"mrr@100\"])"
   ]
  }
 ],
 "metadata": {
  "kernelspec": {
   "display_name": "Python 3 (ipykernel)",
   "language": "python",
   "name": "python3"
  },
  "language_info": {
   "codemirror_mode": {
    "name": "ipython",
    "version": 3
   },
   "file_extension": ".py",
   "mimetype": "text/x-python",
   "name": "python",
   "nbconvert_exporter": "python",
   "pygments_lexer": "ipython3",
   "version": "3.10.9"
  }
 },
 "nbformat": 4,
 "nbformat_minor": 5
}
